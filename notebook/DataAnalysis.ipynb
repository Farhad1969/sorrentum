{
 "cells": [
  {
   "cell_type": "code",
   "execution_count": 45,
   "id": "247ee0e8-71d2-4102-a0b9-6fff7acac42a",
   "metadata": {},
   "outputs": [],
   "source": [
    "import pandas as pd\n",
    "import numpy as np\n",
    "import matplotlib.pyplot as plt\n",
    "import seaborn as sns"
   ]
  },
  {
   "cell_type": "code",
   "execution_count": 46,
   "id": "74cfff37-1ff4-4012-9611-374934ac6375",
   "metadata": {},
   "outputs": [],
   "source": [
    "df = pd.read_json(\"/Users/farhadabasahl/Spring2024_ZooKeeper_Integration_with_Data_Mining_FA/data/cryptocurrency_data.json\")\n"
   ]
  },
  {
   "cell_type": "code",
   "execution_count": 47,
   "id": "c9de6ad1-edc2-4102-aabe-e8e0ab93b1b9",
   "metadata": {
    "scrolled": true
   },
   "outputs": [
    {
     "data": {
      "text/html": [
       "<div>\n",
       "<style scoped>\n",
       "    .dataframe tbody tr th:only-of-type {\n",
       "        vertical-align: middle;\n",
       "    }\n",
       "\n",
       "    .dataframe tbody tr th {\n",
       "        vertical-align: top;\n",
       "    }\n",
       "\n",
       "    .dataframe thead th {\n",
       "        text-align: right;\n",
       "    }\n",
       "</style>\n",
       "<table border=\"1\" class=\"dataframe\">\n",
       "  <thead>\n",
       "    <tr style=\"text-align: right;\">\n",
       "      <th></th>\n",
       "      <th>status</th>\n",
       "      <th>data</th>\n",
       "    </tr>\n",
       "  </thead>\n",
       "  <tbody>\n",
       "    <tr>\n",
       "      <th>timestamp</th>\n",
       "      <td>2024-04-24T01:16:38.951Z</td>\n",
       "      <td>NaN</td>\n",
       "    </tr>\n",
       "    <tr>\n",
       "      <th>error_code</th>\n",
       "      <td>0</td>\n",
       "      <td>NaN</td>\n",
       "    </tr>\n",
       "    <tr>\n",
       "      <th>error_message</th>\n",
       "      <td>None</td>\n",
       "      <td>NaN</td>\n",
       "    </tr>\n",
       "    <tr>\n",
       "      <th>elapsed</th>\n",
       "      <td>48</td>\n",
       "      <td>NaN</td>\n",
       "    </tr>\n",
       "    <tr>\n",
       "      <th>credit_count</th>\n",
       "      <td>1</td>\n",
       "      <td>NaN</td>\n",
       "    </tr>\n",
       "  </tbody>\n",
       "</table>\n",
       "</div>"
      ],
      "text/plain": [
       "                                 status data\n",
       "timestamp      2024-04-24T01:16:38.951Z  NaN\n",
       "error_code                            0  NaN\n",
       "error_message                      None  NaN\n",
       "elapsed                              48  NaN\n",
       "credit_count                          1  NaN"
      ]
     },
     "execution_count": 47,
     "metadata": {},
     "output_type": "execute_result"
    }
   ],
   "source": [
    "df.head()"
   ]
  },
  {
   "cell_type": "code",
   "execution_count": 48,
   "id": "42fa6788-daa2-407f-af02-1c8972e21bfc",
   "metadata": {},
   "outputs": [
    {
     "data": {
      "text/html": [
       "<div>\n",
       "<style scoped>\n",
       "    .dataframe tbody tr th:only-of-type {\n",
       "        vertical-align: middle;\n",
       "    }\n",
       "\n",
       "    .dataframe tbody tr th {\n",
       "        vertical-align: top;\n",
       "    }\n",
       "\n",
       "    .dataframe thead th {\n",
       "        text-align: right;\n",
       "    }\n",
       "</style>\n",
       "<table border=\"1\" class=\"dataframe\">\n",
       "  <thead>\n",
       "    <tr style=\"text-align: right;\">\n",
       "      <th></th>\n",
       "      <th>status</th>\n",
       "      <th>data</th>\n",
       "    </tr>\n",
       "  </thead>\n",
       "  <tbody>\n",
       "    <tr>\n",
       "      <th>count</th>\n",
       "      <td>4</td>\n",
       "      <td>14</td>\n",
       "    </tr>\n",
       "    <tr>\n",
       "      <th>unique</th>\n",
       "      <td>4</td>\n",
       "      <td>14</td>\n",
       "    </tr>\n",
       "    <tr>\n",
       "      <th>top</th>\n",
       "      <td>2024-04-24T01:16:38.951Z</td>\n",
       "      <td>{'id': 2010, 'name': 'Cardano', 'symbol': 'ADA...</td>\n",
       "    </tr>\n",
       "    <tr>\n",
       "      <th>freq</th>\n",
       "      <td>1</td>\n",
       "      <td>1</td>\n",
       "    </tr>\n",
       "  </tbody>\n",
       "</table>\n",
       "</div>"
      ],
      "text/plain": [
       "                          status  \\\n",
       "count                          4   \n",
       "unique                         4   \n",
       "top     2024-04-24T01:16:38.951Z   \n",
       "freq                           1   \n",
       "\n",
       "                                                     data  \n",
       "count                                                  14  \n",
       "unique                                                 14  \n",
       "top     {'id': 2010, 'name': 'Cardano', 'symbol': 'ADA...  \n",
       "freq                                                    1  "
      ]
     },
     "execution_count": 48,
     "metadata": {},
     "output_type": "execute_result"
    }
   ],
   "source": [
    "df.describe()\n"
   ]
  },
  {
   "cell_type": "code",
   "execution_count": 49,
   "id": "030a0e71-6e16-4af1-9bac-341da44db0d2",
   "metadata": {},
   "outputs": [
    {
     "data": {
      "text/plain": [
       "<bound method DataFrame.info of                                  status  \\\n",
       "timestamp      2024-04-24T01:16:38.951Z   \n",
       "error_code                            0   \n",
       "error_message                      None   \n",
       "elapsed                              48   \n",
       "credit_count                          1   \n",
       "notice                             None   \n",
       "ADA                                 NaN   \n",
       "AXS                                 NaN   \n",
       "BTC                                 NaN   \n",
       "ENJ                                 NaN   \n",
       "ETH                                 NaN   \n",
       "INJ                                 NaN   \n",
       "LINK                                NaN   \n",
       "MANA                                NaN   \n",
       "MATIC                               NaN   \n",
       "RNDR                                NaN   \n",
       "SOL                                 NaN   \n",
       "USDT                                NaN   \n",
       "VARA                                NaN   \n",
       "VTHO                                NaN   \n",
       "\n",
       "                                                            data  \n",
       "timestamp                                                    NaN  \n",
       "error_code                                                   NaN  \n",
       "error_message                                                NaN  \n",
       "elapsed                                                      NaN  \n",
       "credit_count                                                 NaN  \n",
       "notice                                                       NaN  \n",
       "ADA            {'id': 2010, 'name': 'Cardano', 'symbol': 'ADA...  \n",
       "AXS            {'id': 6783, 'name': 'Axie Infinity', 'symbol'...  \n",
       "BTC            {'id': 1, 'name': 'Bitcoin', 'symbol': 'BTC', ...  \n",
       "ENJ            {'id': 2130, 'name': 'Enjin Coin', 'symbol': '...  \n",
       "ETH            {'id': 1027, 'name': 'Ethereum', 'symbol': 'ET...  \n",
       "INJ            {'id': 7226, 'name': 'Injective', 'symbol': 'I...  \n",
       "LINK           {'id': 1975, 'name': 'Chainlink', 'symbol': 'L...  \n",
       "MANA           {'id': 1966, 'name': 'Decentraland', 'symbol':...  \n",
       "MATIC          {'id': 3890, 'name': 'Polygon', 'symbol': 'MAT...  \n",
       "RNDR           {'id': 5690, 'name': 'Render', 'symbol': 'RNDR...  \n",
       "SOL            {'id': 5426, 'name': 'Solana', 'symbol': 'SOL'...  \n",
       "USDT           {'id': 825, 'name': 'Tether USDt', 'symbol': '...  \n",
       "VARA           {'id': 28067, 'name': 'Vara Network', 'symbol'...  \n",
       "VTHO           {'id': 3012, 'name': 'VeThor Token', 'symbol':...  >"
      ]
     },
     "execution_count": 49,
     "metadata": {},
     "output_type": "execute_result"
    }
   ],
   "source": [
    "df.info\n"
   ]
  },
  {
   "cell_type": "code",
   "execution_count": 50,
   "id": "78a72b0d-ed79-481f-89ab-c85d3c3fff8d",
   "metadata": {},
   "outputs": [
    {
     "name": "stdout",
     "output_type": "stream",
     "text": [
      "Index(['status', 'data'], dtype='object')\n",
      "                                 status data\n",
      "timestamp      2024-04-24T01:16:38.951Z  NaN\n",
      "error_code                            0  NaN\n",
      "error_message                      None  NaN\n",
      "elapsed                              48  NaN\n",
      "credit_count                          1  NaN\n"
     ]
    }
   ],
   "source": [
    "print(df.columns)\n",
    "print(df.head())"
   ]
  },
  {
   "cell_type": "code",
   "execution_count": 51,
   "id": "4a687b9b-f033-4c1f-9bc5-f58b61a71772",
   "metadata": {},
   "outputs": [
    {
     "name": "stdout",
     "output_type": "stream",
     "text": [
      "{'id': 2010, 'name': 'Cardano', 'symbol': 'ADA', 'slug': 'cardano', 'num_market_pairs': 1150, 'date_added': '2017-10-01T00:00:00.000Z', 'tags': ['dpos', 'pos', 'platform', 'research', 'smart-contracts', 'staking', 'cardano-ecosystem', 'cardano', 'layer-1', 'sec-security-token', 'alleged-sec-securities'], 'max_supply': 45000000000, 'circulating_supply': 35633955955.334, 'total_supply': 36812929523.021, 'is_active': 1, 'infinite_supply': False, 'platform': None, 'cmc_rank': 10, 'is_fiat': 0, 'self_reported_circulating_supply': None, 'self_reported_market_cap': None, 'tvl_ratio': None, 'last_updated': '2024-04-24T01:14:00.000Z', 'quote': {'USD': {'price': 0.504873285126632, 'volume_24h': 406113392.7844728, 'volume_change_24h': 1.1572, 'percent_change_1h': 0.6291561999999999, 'percent_change_24h': -2.45768997, 'percent_change_7d': 10.75669806, 'percent_change_30d': -21.36802238, 'percent_change_60d': -13.20490476, 'percent_change_90d': 6.39808624, 'market_cap': 17990632405.22721, 'market_cap_dominance': 0.7317, 'fully_diluted_market_cap': 22719297830.7, 'tvl': None, 'last_updated': '2024-04-24T01:14:00.000Z'}}}\n",
      "No data available to flatten.\n"
     ]
    }
   ],
   "source": [
    "print(df['data'].dropna().iloc[0])\n",
    "if pd.notna(df['data'].iloc[0]): \n",
    "    try:\n",
    "        data_df = pd.json_normalize(df['data'])\n",
    "        print(data_df.head())\n",
    "    except Exception as e:\n",
    "        print(\"Error flattening data:\", e)\n",
    "else:\n",
    "    print(\"No data available to flatten.\")"
   ]
  },
  {
   "cell_type": "code",
   "execution_count": 53,
   "id": "3f9eb092-3d56-4a11-a652-29b9a8f545a1",
   "metadata": {},
   "outputs": [],
   "source": [
    "import json\n",
    "\n",
    "# Check and load the JSON string if 'data' contains stringified JSON\n",
    "if isinstance(df['data'].iloc[0], str):\n",
    "    try:\n",
    "        # Assuming the JSON structure is a list of dictionaries\n",
    "        data_list = json.loads(df['data'].iloc[0])\n",
    "        data_df = pd.json_normalize(data_list)\n",
    "        print(\"Loaded and flattened DataFrame from string JSON:\", data_df.head())\n",
    "    except json.JSONDecodeError as e:\n",
    "        print(\"JSON decode error:\", e)"
   ]
  },
  {
   "cell_type": "code",
   "execution_count": 54,
   "id": "eac8bcd7-5bf3-4a92-b157-246eebcdea3f",
   "metadata": {},
   "outputs": [
    {
     "ename": "NameError",
     "evalue": "name 'data_df' is not defined",
     "output_type": "error",
     "traceback": [
      "\u001b[0;31m---------------------------------------------------------------------------\u001b[0m",
      "\u001b[0;31mNameError\u001b[0m                                 Traceback (most recent call last)",
      "Cell \u001b[0;32mIn[54], line 1\u001b[0m\n\u001b[0;32m----> 1\u001b[0m df \u001b[38;5;241m=\u001b[39m \u001b[43mdata_df\u001b[49m\n\u001b[1;32m      2\u001b[0m \u001b[38;5;28mprint\u001b[39m(df\u001b[38;5;241m.\u001b[39mcolumns)\n",
      "\u001b[0;31mNameError\u001b[0m: name 'data_df' is not defined"
     ]
    }
   ],
   "source": [
    "df = data_df\n",
    "print(df.columns)"
   ]
  },
  {
   "cell_type": "code",
   "execution_count": 23,
   "id": "29384a51-16f3-4a1f-9a5b-4e480ffac48c",
   "metadata": {},
   "outputs": [
    {
     "ename": "KeyError",
     "evalue": "'market_cap'",
     "output_type": "error",
     "traceback": [
      "\u001b[0;31m---------------------------------------------------------------------------\u001b[0m",
      "\u001b[0;31mKeyError\u001b[0m                                  Traceback (most recent call last)",
      "File \u001b[0;32m~/Library/Python/3.9/lib/python/site-packages/pandas/core/indexes/base.py:3805\u001b[0m, in \u001b[0;36mIndex.get_loc\u001b[0;34m(self, key)\u001b[0m\n\u001b[1;32m   3804\u001b[0m \u001b[38;5;28;01mtry\u001b[39;00m:\n\u001b[0;32m-> 3805\u001b[0m     \u001b[38;5;28;01mreturn\u001b[39;00m \u001b[38;5;28;43mself\u001b[39;49m\u001b[38;5;241;43m.\u001b[39;49m\u001b[43m_engine\u001b[49m\u001b[38;5;241;43m.\u001b[39;49m\u001b[43mget_loc\u001b[49m\u001b[43m(\u001b[49m\u001b[43mcasted_key\u001b[49m\u001b[43m)\u001b[49m\n\u001b[1;32m   3806\u001b[0m \u001b[38;5;28;01mexcept\u001b[39;00m \u001b[38;5;167;01mKeyError\u001b[39;00m \u001b[38;5;28;01mas\u001b[39;00m err:\n",
      "File \u001b[0;32mindex.pyx:167\u001b[0m, in \u001b[0;36mpandas._libs.index.IndexEngine.get_loc\u001b[0;34m()\u001b[0m\n",
      "File \u001b[0;32mindex.pyx:196\u001b[0m, in \u001b[0;36mpandas._libs.index.IndexEngine.get_loc\u001b[0;34m()\u001b[0m\n",
      "File \u001b[0;32mpandas/_libs/hashtable_class_helper.pxi:7081\u001b[0m, in \u001b[0;36mpandas._libs.hashtable.PyObjectHashTable.get_item\u001b[0;34m()\u001b[0m\n",
      "File \u001b[0;32mpandas/_libs/hashtable_class_helper.pxi:7089\u001b[0m, in \u001b[0;36mpandas._libs.hashtable.PyObjectHashTable.get_item\u001b[0;34m()\u001b[0m\n",
      "\u001b[0;31mKeyError\u001b[0m: 'market_cap'",
      "\nThe above exception was the direct cause of the following exception:\n",
      "\u001b[0;31mKeyError\u001b[0m                                  Traceback (most recent call last)",
      "Cell \u001b[0;32mIn[23], line 2\u001b[0m\n\u001b[1;32m      1\u001b[0m plt\u001b[38;5;241m.\u001b[39mfigure(figsize\u001b[38;5;241m=\u001b[39m(\u001b[38;5;241m10\u001b[39m,\u001b[38;5;241m6\u001b[39m))\n\u001b[0;32m----> 2\u001b[0m plt\u001b[38;5;241m.\u001b[39mscatter(\u001b[43mdf\u001b[49m\u001b[43m[\u001b[49m\u001b[38;5;124;43m'\u001b[39;49m\u001b[38;5;124;43mmarket_cap\u001b[39;49m\u001b[38;5;124;43m'\u001b[39;49m\u001b[43m]\u001b[49m, df[\u001b[38;5;124m'\u001b[39m\u001b[38;5;124mvolume_24h\u001b[39m\u001b[38;5;124m'\u001b[39m], alpha\u001b[38;5;241m=\u001b[39m\u001b[38;5;241m0.5\u001b[39m) \u001b[38;5;66;03m#alpha used for adjusting transparency\u001b[39;00m\n\u001b[1;32m      3\u001b[0m plt\u001b[38;5;241m.\u001b[39mtitle(\u001b[38;5;124m'\u001b[39m\u001b[38;5;124mMarket Cap vs. Volume\u001b[39m\u001b[38;5;124m'\u001b[39m)\n\u001b[1;32m      4\u001b[0m plt\u001b[38;5;241m.\u001b[39mxlabel(\u001b[38;5;124m'\u001b[39m\u001b[38;5;124mMarket Cap\u001b[39m\u001b[38;5;124m'\u001b[39m)\n",
      "File \u001b[0;32m~/Library/Python/3.9/lib/python/site-packages/pandas/core/frame.py:4102\u001b[0m, in \u001b[0;36mDataFrame.__getitem__\u001b[0;34m(self, key)\u001b[0m\n\u001b[1;32m   4100\u001b[0m \u001b[38;5;28;01mif\u001b[39;00m \u001b[38;5;28mself\u001b[39m\u001b[38;5;241m.\u001b[39mcolumns\u001b[38;5;241m.\u001b[39mnlevels \u001b[38;5;241m>\u001b[39m \u001b[38;5;241m1\u001b[39m:\n\u001b[1;32m   4101\u001b[0m     \u001b[38;5;28;01mreturn\u001b[39;00m \u001b[38;5;28mself\u001b[39m\u001b[38;5;241m.\u001b[39m_getitem_multilevel(key)\n\u001b[0;32m-> 4102\u001b[0m indexer \u001b[38;5;241m=\u001b[39m \u001b[38;5;28;43mself\u001b[39;49m\u001b[38;5;241;43m.\u001b[39;49m\u001b[43mcolumns\u001b[49m\u001b[38;5;241;43m.\u001b[39;49m\u001b[43mget_loc\u001b[49m\u001b[43m(\u001b[49m\u001b[43mkey\u001b[49m\u001b[43m)\u001b[49m\n\u001b[1;32m   4103\u001b[0m \u001b[38;5;28;01mif\u001b[39;00m is_integer(indexer):\n\u001b[1;32m   4104\u001b[0m     indexer \u001b[38;5;241m=\u001b[39m [indexer]\n",
      "File \u001b[0;32m~/Library/Python/3.9/lib/python/site-packages/pandas/core/indexes/base.py:3812\u001b[0m, in \u001b[0;36mIndex.get_loc\u001b[0;34m(self, key)\u001b[0m\n\u001b[1;32m   3807\u001b[0m     \u001b[38;5;28;01mif\u001b[39;00m \u001b[38;5;28misinstance\u001b[39m(casted_key, \u001b[38;5;28mslice\u001b[39m) \u001b[38;5;129;01mor\u001b[39;00m (\n\u001b[1;32m   3808\u001b[0m         \u001b[38;5;28misinstance\u001b[39m(casted_key, abc\u001b[38;5;241m.\u001b[39mIterable)\n\u001b[1;32m   3809\u001b[0m         \u001b[38;5;129;01mand\u001b[39;00m \u001b[38;5;28many\u001b[39m(\u001b[38;5;28misinstance\u001b[39m(x, \u001b[38;5;28mslice\u001b[39m) \u001b[38;5;28;01mfor\u001b[39;00m x \u001b[38;5;129;01min\u001b[39;00m casted_key)\n\u001b[1;32m   3810\u001b[0m     ):\n\u001b[1;32m   3811\u001b[0m         \u001b[38;5;28;01mraise\u001b[39;00m InvalidIndexError(key)\n\u001b[0;32m-> 3812\u001b[0m     \u001b[38;5;28;01mraise\u001b[39;00m \u001b[38;5;167;01mKeyError\u001b[39;00m(key) \u001b[38;5;28;01mfrom\u001b[39;00m \u001b[38;5;21;01merr\u001b[39;00m\n\u001b[1;32m   3813\u001b[0m \u001b[38;5;28;01mexcept\u001b[39;00m \u001b[38;5;167;01mTypeError\u001b[39;00m:\n\u001b[1;32m   3814\u001b[0m     \u001b[38;5;66;03m# If we have a listlike key, _check_indexing_error will raise\u001b[39;00m\n\u001b[1;32m   3815\u001b[0m     \u001b[38;5;66;03m#  InvalidIndexError. Otherwise we fall through and re-raise\u001b[39;00m\n\u001b[1;32m   3816\u001b[0m     \u001b[38;5;66;03m#  the TypeError.\u001b[39;00m\n\u001b[1;32m   3817\u001b[0m     \u001b[38;5;28mself\u001b[39m\u001b[38;5;241m.\u001b[39m_check_indexing_error(key)\n",
      "\u001b[0;31mKeyError\u001b[0m: 'market_cap'"
     ]
    },
    {
     "data": {
      "text/plain": [
       "<Figure size 1000x600 with 0 Axes>"
      ]
     },
     "metadata": {},
     "output_type": "display_data"
    }
   ],
   "source": [
    "plt.figure(figsize=(10,6))\n",
    "plt.scatter(df['market_cap'], df['volume_24h'], alpha=0.5) #alpha used for adjusting transparency\n",
    "plt.title('Market Cap vs. Volume')\n",
    "plt.xlabel('Market Cap')\n",
    "plt.ylabel('Volume (24h)')\n",
    "plt.xscale('log')\n",
    "plt.grid(True)\n",
    "plt.show()"
   ]
  },
  {
   "cell_type": "code",
   "execution_count": null,
   "id": "dbc17202-0e21-4bb2-80bd-a8dd864df82f",
   "metadata": {},
   "outputs": [],
   "source": []
  },
  {
   "cell_type": "code",
   "execution_count": null,
   "id": "f8620915-aa9f-4730-b1c3-748c42e62125",
   "metadata": {},
   "outputs": [],
   "source": []
  }
 ],
 "metadata": {
  "kernelspec": {
   "display_name": "Python 3 (ipykernel)",
   "language": "python",
   "name": "python3"
  },
  "language_info": {
   "codemirror_mode": {
    "name": "ipython",
    "version": 3
   },
   "file_extension": ".py",
   "mimetype": "text/x-python",
   "name": "python",
   "nbconvert_exporter": "python",
   "pygments_lexer": "ipython3",
   "version": "3.9.6"
  }
 },
 "nbformat": 4,
 "nbformat_minor": 5
}
