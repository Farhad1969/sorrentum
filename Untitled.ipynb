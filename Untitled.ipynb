{
 "cells": [
  {
   "cell_type": "code",
   "execution_count": null,
   "id": "7bcf0a25-4612-40bb-941c-5234138a706b",
   "metadata": {},
   "outputs": [],
   "source": [
    "import redis\n",
    "import json\n",
    "\n",
    "# Connect to Redis\n",
    "r = redis.Redis(host='redis', port=6379, db=0, decode_responses=True)\n",
    "\n",
    "def cache_data(key, data):\n",
    "    # Cache data in Redis\n",
    "    r.set(key, json.dumps(data))\n",
    "\n",
    "def fetch_cached_data(key):\n",
    "    # Fetch data from Redis\n",
    "    data = r.get(key)\n",
    "    if data:\n",
    "        return json.loads(data)\n",
    "    return None\n",
    "\n",
    "# Example usage\n",
    "key = \"user_profile\"\n",
    "data = {\"name\": “Farhad Abasahl”, “UID”: 113959479}\n",
    "cache_data(key, data)  # Cache data\n",
    "fetched_data = fetch_cached_data(key)  # Retrieve cached data\n",
    "print(fetched_data)"
   ]
  }
 ],
 "metadata": {
  "kernelspec": {
   "display_name": "Python 3 (ipykernel)",
   "language": "python",
   "name": "python3"
  },
  "language_info": {
   "codemirror_mode": {
    "name": "ipython",
    "version": 3
   },
   "file_extension": ".py",
   "mimetype": "text/x-python",
   "name": "python",
   "nbconvert_exporter": "python",
   "pygments_lexer": "ipython3",
   "version": "3.9.6"
  }
 },
 "nbformat": 4,
 "nbformat_minor": 5
}
